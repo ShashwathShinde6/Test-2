{
  "nbformat": 4,
  "nbformat_minor": 0,
  "metadata": {
    "colab": {
      "provenance": [],
      "authorship_tag": "ABX9TyOQfOfK6+3MHgCEMxepB+ic",
      "include_colab_link": true
    },
    "kernelspec": {
      "name": "python3",
      "display_name": "Python 3"
    },
    "language_info": {
      "name": "python"
    }
  },
  "cells": [
    {
      "cell_type": "markdown",
      "metadata": {
        "id": "view-in-github",
        "colab_type": "text"
      },
      "source": [
        "<a href=\"https://colab.research.google.com/github/ShashwathShinde6/Test-2/blob/main/Skill_exp_4.ipynb\" target=\"_parent\"><img src=\"https://colab.research.google.com/assets/colab-badge.svg\" alt=\"Open In Colab\"/></a>"
      ]
    },
    {
      "cell_type": "code",
      "execution_count": null,
      "metadata": {
        "id": "vGFaUOTe6jCr"
      },
      "outputs": [],
      "source": [
        "import pandas as pd\n",
        "\n",
        "df = pd.read_csv('/winequality-red.csv')"
      ]
    },
    {
      "cell_type": "code",
      "source": [
        "# Importing necessary libraries\n",
        "import pandas as pd\n",
        "from sklearn.preprocessing import MinMaxScaler\n",
        "\n",
        "# Sample data\n",
        "data = {\n",
        "    'Feature1': [10, 20, 30, 40, 50],\n",
        "    'Feature2': [100, 200, 300, 400, 500],\n",
        "    'Feature3': [1, 2, 3, 4, 5]\n",
        "}\n",
        "\n",
        "# Creating a DataFrame\n",
        "df = pd.DataFrame(data)\n",
        "\n",
        "# Display original data\n",
        "print(\"Original DataFrame:\")\n",
        "print(df)\n",
        "\n",
        "# Initialize MinMaxScaler\n",
        "scaler = MinMaxScaler()\n",
        "\n",
        "# Apply Min-Max scaling\n",
        "scaled_data = scaler.fit_transform(df)\n",
        "\n",
        "# Create a DataFrame with scaled data\n",
        "scaled_df = pd.DataFrame(scaled_data, columns=df.columns)\n",
        "\n",
        "# Display scaled data\n",
        "print(\"\\nScaled DataFrame:\")\n",
        "print(scaled_df)\n"
      ],
      "metadata": {
        "colab": {
          "base_uri": "https://localhost:8080/"
        },
        "id": "cn5ThE5q8Abw",
        "outputId": "2159ff92-3f3f-4df0-841f-fcba586ff9d2"
      },
      "execution_count": null,
      "outputs": [
        {
          "output_type": "stream",
          "name": "stdout",
          "text": [
            "Original DataFrame:\n",
            "   Feature1  Feature2  Feature3\n",
            "0        10       100         1\n",
            "1        20       200         2\n",
            "2        30       300         3\n",
            "3        40       400         4\n",
            "4        50       500         5\n",
            "\n",
            "Scaled DataFrame:\n",
            "   Feature1  Feature2  Feature3\n",
            "0      0.00      0.00      0.00\n",
            "1      0.25      0.25      0.25\n",
            "2      0.50      0.50      0.50\n",
            "3      0.75      0.75      0.75\n",
            "4      1.00      1.00      1.00\n"
          ]
        }
      ]
    },
    {
      "cell_type": "code",
      "source": [],
      "metadata": {
        "id": "kR_ngYoQ8XX3"
      },
      "execution_count": null,
      "outputs": []
    },
    {
      "cell_type": "code",
      "source": [
        "# Importing necessary libraries\n",
        "import pandas as pd\n",
        "from sklearn.preprocessing import StandardScaler\n",
        "\n",
        "# Sample data\n",
        "data = {\n",
        "    'Feature1': [10, 20, 30, 40, 50],\n",
        "    'Feature2': [100, 200, 300, 400, 500],\n",
        "    'Feature3': [1, 2, 3, 4, 5]\n",
        "}\n",
        "\n",
        "# Creating a DataFrame\n",
        "df = pd.DataFrame(data)\n",
        "\n",
        "# Display original data\n",
        "print(\"Original DataFrame:\")\n",
        "print(df)\n",
        "\n",
        "# Initialize StandardScaler\n",
        "scaler = StandardScaler()\n",
        "\n",
        "# Apply Standardization\n",
        "standardized_data = scaler.fit_transform(df)\n",
        "\n",
        "# Create a DataFrame with standardized data\n",
        "standardized_df = pd.DataFrame(standardized_data, columns=df.columns)\n",
        "\n",
        "# Display standardized data\n",
        "print(\"\\nStandardized DataFrame:\")\n",
        "print(standardized_df)\n"
      ],
      "metadata": {
        "colab": {
          "base_uri": "https://localhost:8080/"
        },
        "id": "Kiu5B23d8Xnf",
        "outputId": "e6eff9ac-262d-4ad5-c6a9-755dc83199bc"
      },
      "execution_count": null,
      "outputs": [
        {
          "output_type": "stream",
          "name": "stdout",
          "text": [
            "Original DataFrame:\n",
            "   Feature1  Feature2  Feature3\n",
            "0        10       100         1\n",
            "1        20       200         2\n",
            "2        30       300         3\n",
            "3        40       400         4\n",
            "4        50       500         5\n",
            "\n",
            "Standardized DataFrame:\n",
            "   Feature1  Feature2  Feature3\n",
            "0 -1.414214 -1.414214 -1.414214\n",
            "1 -0.707107 -0.707107 -0.707107\n",
            "2  0.000000  0.000000  0.000000\n",
            "3  0.707107  0.707107  0.707107\n",
            "4  1.414214  1.414214  1.414214\n"
          ]
        }
      ]
    }
  ]
}